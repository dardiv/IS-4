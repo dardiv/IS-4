{
 "cells": [
  {
   "cell_type": "markdown",
   "metadata": {},
   "source": [
    "Квадраты всех четных чисел (используя map и filter)"
   ]
  },
  {
   "cell_type": "code",
   "execution_count": 82,
   "metadata": {},
   "outputs": [
    {
     "name": "stdout",
     "output_type": "stream",
     "text": [
      "[4, 16, 36]\n"
     ]
    }
   ],
   "source": [
    "make_square_list = [1, 2, 3, 4, 5, 6]\n",
    "square_list_map = list(map(lambda x: x ** 2, filter(lambda x: x % 2 == 0, make_square_list)))\n",
    "print(square_list_map)"
   ]
  },
  {
   "cell_type": "markdown",
   "metadata": {},
   "source": [
    "Дана входная строка и массив чисел, необходимо вернуть строку с теми буквами, которые стоят на указанных местах (два варианта, используя и не используя list comprehensions)"
   ]
  },
  {
   "cell_type": "code",
   "execution_count": 83,
   "metadata": {},
   "outputs": [
    {
     "name": "stdout",
     "output_type": "stream",
     "text": [
      "With list comprehensions:\n",
      "смп\n",
      "Without list comprehensions:\n",
      "смп\n"
     ]
    }
   ],
   "source": [
    "test_str = \"Всем привет\"\n",
    "arr_num = [1, 3, 5]\n",
    "\n",
    "print(\"With list comprehensions:\\n\" + ''.join([test_str[i] for i in arr_num]))\n",
    "\n",
    "output2 = \"\"\n",
    "for i in arr_num:\n",
    "    output2 += test_str[i]\n",
    "print(\"Without list comprehensions:\\n\" + output2)"
   ]
  },
  {
   "cell_type": "markdown",
   "metadata": {},
   "source": [
    "Дан текст (предложения разделены только точками), в котором буквы могут находиться в разных регистрах. Необходимо вернуть текст, в котором все буквы в нижнем регистре, а первые буквы каждого предложения – в верхнем. Пользоваться можно встроенными функциями строки (кроме capitalize ), всеми изученными в этой теме функциями и модулем itertools.\n"
   ]
  },
  {
   "cell_type": "code",
   "execution_count": 84,
   "metadata": {},
   "outputs": [
    {
     "name": "stdout",
     "output_type": "stream",
     "text": [
      "Two really random sentences. Just to test.\n"
     ]
    }
   ],
   "source": [
    "sentence = \"twO rEaLLy raNDom sEntEnceS. JUST To TeST.\"\n",
    "splited_str = sentence.split('. ')\n",
    "str_res = []\n",
    "\n",
    "for s in splited_str:\n",
    "    str_res.append(s[:1].upper() + s[1:].lower())\n",
    "\n",
    "print('. '.join(str_res))"
   ]
  },
  {
   "cell_type": "markdown",
   "metadata": {},
   "source": [
    "functools.reduce\n"
   ]
  },
  {
   "cell_type": "code",
   "execution_count": 3,
   "metadata": {},
   "outputs": [
    {
     "name": "stdout",
     "output_type": "stream",
     "text": [
      "15\n"
     ]
    }
   ],
   "source": [
    "def reduce(function, iterable, initializer = None):\n",
    "    it = iter(iterable)\n",
    "    if initializer is None:\n",
    "        initializer = next(it)\n",
    "        \n",
    "    accum_value = initializer\n",
    "    \n",
    "    for x in it:\n",
    "        accum_value = function(accum_value, x)\n",
    "    return accum_value\n",
    "\n",
    "result = reduce(lambda x, y: x + y, [1, 2, 3, 4, 5])\n",
    "print(result)"
   ]
  },
  {
   "cell_type": "markdown",
   "metadata": {},
   "source": [
    "Cоздайте функцию pipeline_each, в которую вы будете подавать итерируемый объект и список функций, которые последовательно надо к нему применить."
   ]
  },
  {
   "cell_type": "code",
   "execution_count": 1,
   "metadata": {},
   "outputs": [
    {
     "name": "stdout",
     "output_type": "stream",
     "text": [
      "1\n",
      "16\n",
      "81\n",
      "256\n",
      "625\n"
     ]
    }
   ],
   "source": [
    "def pipeline(func, val):\n",
    "    for f in func:\n",
    "        val = f(val)\n",
    "    return val\n",
    "\n",
    "def pipeline_each(func, obj):\n",
    "    for val in obj:\n",
    "        yield pipeline(func, val)\n",
    "        \n",
    "func = [ lambda++++++++++ x: x + 1, lambda x: x * x, lambda x: x ** 2]\n",
    "\n",
    "val = range(5)\n",
    "for res in pipeline_each(func, val):\n",
    "    print(res)"
   ]
  },
  {
   "cell_type": "markdown",
   "metadata": {},
   "source": [
    "Написать генератор, возвращающий по очереди все слова, входящие в предложение.\n"
   ]
  },
  {
   "cell_type": "code",
   "execution_count": 87,
   "metadata": {},
   "outputs": [
    {
     "name": "stdout",
     "output_type": "stream",
     "text": [
      "Написать\n",
      "генератор,\n",
      "возвращающий\n",
      "по\n",
      "очереди\n",
      "все\n",
      "слова,\n",
      "входящие\n",
      "в\n",
      "предложение.\n"
     ]
    }
   ],
   "source": [
    "str_gen = \"Написать генератор, возвращающий по очереди все слова, входящие в предложение.\"\n",
    "gen = ( s for s in str_gen.split(' '))\n",
    "for i in gen:\n",
    "    print(i)"
   ]
  },
  {
   "cell_type": "markdown",
   "metadata": {},
   "source": [
    "Написать генератор псевдо случайных чисел\n"
   ]
  },
  {
   "cell_type": "code",
   "execution_count": 90,
   "metadata": {},
   "outputs": [
    {
     "name": "stdout",
     "output_type": "stream",
     "text": [
      "Without seed:\n",
      "51\n",
      "-155\n",
      "463\n",
      "-1391\n",
      "4171\n",
      "\n",
      "With seed:\n",
      "2\n",
      "8\n",
      "26\n",
      "80\n",
      "242\n"
     ]
    }
   ],
   "source": [
    "import datetime\n",
    "\n",
    "def pseudo_rnd(seed = None):\n",
    "    if seed == None:\n",
    "        seed = datetime.datetime.now().second\n",
    "    while True:\n",
    "        yield seed\n",
    "        seed = int((3 * seed + 2) * (-1) ** seed)\n",
    "\n",
    "a = pseudo_rnd()\n",
    "b = pseudo_rnd(2)\n",
    "\n",
    "print(\"Without seed:\")\n",
    "for i in range(5):\n",
    "    print(next(a))\n",
    "\n",
    "print(\"\\nWith seed:\")\n",
    "for i in range(5):\n",
    "    print(next(b))"
   ]
  },
  {
   "cell_type": "markdown",
   "metadata": {},
   "source": [
    "Написать корутину, которая реализует бесконечную арифметическую прогрессию с возможностью перезапуска с любого места (3, 4, 5, 6, send(30), 31, 32, 33, …)\n"
   ]
  },
  {
   "cell_type": "code",
   "execution_count": 89,
   "metadata": {},
   "outputs": [
    {
     "name": "stdout",
     "output_type": "stream",
     "text": [
      "0\n",
      "1\n",
      "2\n",
      "3\n",
      "4\n",
      "31\n",
      "32\n",
      "33\n",
      "34\n",
      "35\n",
      "36\n"
     ]
    }
   ],
   "source": [
    "def arifm_coroutine():\n",
    "    curr_num = 0\n",
    "    while True:\n",
    "        input_num = yield curr_num\n",
    "        if input_num != None:\n",
    "            curr_num = input_num\n",
    "        curr_num += 1\n",
    "    \n",
    "c = arifm_coroutine()\n",
    "\n",
    "for i in range(5):\n",
    "    print(str(next(c)))\n",
    "\n",
    "print(str(c.send(30)))\n",
    "\n",
    "for i in range(5):\n",
    "    print(str(next(c)))"
   ]
  },
  {
   "cell_type": "code",
   "execution_count": null,
   "metadata": {},
   "outputs": [],
   "source": []
  }
 ],
 "metadata": {
  "kernelspec": {
   "display_name": "Python 3",
   "language": "python",
   "name": "python3"
  },
  "language_info": {
   "codemirror_mode": {
    "name": "ipython",
    "version": 3
   },
   "file_extension": ".py",
   "mimetype": "text/x-python",
   "name": "python",
   "nbconvert_exporter": "python",
   "pygments_lexer": "ipython3",
   "version": "3.7.3"
  }
 },
 "nbformat": 4,
 "nbformat_minor": 2
}
